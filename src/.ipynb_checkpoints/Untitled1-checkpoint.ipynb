{
 "cells": [
  {
   "cell_type": "code",
   "execution_count": 1,
   "id": "80235fd1",
   "metadata": {},
   "outputs": [],
   "source": [
    "summary = ['subject re clipper computer software engineering line distribution inet nntp post send response receive nice automatic reply micmail note pass include snail address would reply due course care reply let protect voice network privately develop always available always will so let think how law enforcement give fact how hope legislate need system designer meet clipper chip want freely export use algorithm already freely available destination country disclaimer opinion express own course',\n",
    " 'eliot subject improvement automatic transmission keyword saturn clear line post excellent automatic can find legacy switch sport mode when electronic figure when driver set switch proper way imo so sport mode entail several thing rev red line case legacy delay upshift lift briefly will remain low gear handy charge corner would like distraction upshift when s curve approach part throttle downshift base speed pedal depressed rather position pedal modern electronic can measure very easily switch sport mode wonderful want charge green light about turn red audi sense very well can downshift as little half throttle right foot fast enough also think smart can deliver well gas mileage dumb driver else equal remember idea stick more economical automatic make big assumption driver smart enough know gear use situation how many time ride inattentive driver cruise highway th gear speed how many people drive manual really know good gear use conceivable situation be sure will know suspect chip control automatic possible scenario ratio combination store likely better can also say previous assumption prove wrong get car instantaneous mpg readout high gear low rev wide open throttle more economical low gear high rev small throttle open explanation quite simple sit think that obvious first sight',\n",
    " 'line article write watch last night thought see octopus ice ysebaert score tie game give squid keep tradition alive kinda fish custom throw octopus ice responsible bramage',\n",
    " 'subject re utility update line sorry tell exactly need need utility automatic update deleting add change file window program should run do batchfile program run script window will use utility update other file meny pc find host',\n",
    " 'subject space faq upcome planetary probe line distribution world expire may gmt nntp post frequently ask question archive name space last modify date upcome planetary probe mission schedule information upcoming currently active mission mention below would welcome source fact sheet design team schedule press kit launch earth orbit equip large area wide wavelength camera image gas scintillation counter atmosphere joint project design accomplish exploration saturnian system schedule launch gravity assist earth spacecraft will arrive arrival cassini spacecraft perform several maneuver achieve orbit saturn end initial orbit probe separate orbiter descend atmosphere orbiter relay probe datum earth hour probe enter traverse cloudy atmosphere surface completion probe mission orbiter continue tour saturnian system half year synchronous orbit trajectory will allow target flyby enceladus objective mission threefold conduct detailed study saturn atmosphere ring magnetosphere conduct close study saturn satellite characterize titan atmosphere surface most intriguing aspect possibility surface may cover part lake liquid hydrocarbon result photochemical process upper atmosphere hydrocarbon condense form global smog layer eventually rain surface orbiter will use onboard radar peer titan cloud determine liquid surface experiment orbiter entry probe will investigate chemical process produce unique atmosphere mission name first director discover several saturn satellite major division ring atmospheric entry probe name dutch huygen discover first describe true nature saturn ring key schedule date launch venus gravity assist probe probe entry end primary mission schedule last update atmosphere probe transit return first resolve image asteroid gaspra transit effort unfurl stuck high gain essentially abandon develop backup plan use datum compression jpeg image lossless compression datum other instrument should allow mission achieve approximately original objective schedule launch space shuttle venus flyby datum high gain unfurl flyby probe separation orbiter deflection orbital tour jovian moon encounter ganymede hiten japanese isas lunar probe launch make multiple lunar release hagoromo small satellite lunar orbit mission make third nation orbit satellite moon mapping mission map almost entire surface high resolution currently collect global gravity orbiter include launch currently transit arrive operation will start martian year day satellite launch ariane booster primary objective poseidon project make precise accurate global observation sea level several year substantially increase understanding global ocean dynamic satellite also will increase understanding how heat transport ocean ulysse probe study sun orbit pole launch late carry particle field experiment such magnetometer ion electron collector various energy range radio receiver camera human build rocket hefty enough send ulysse far ecliptic plane go instead steal energy planet slide jupiter gravity bend path solar orbit tilt degree ecliptic will pass pole summer aphelion surprisingly perihelion s right solar study spacecraft s always further sun earth jupiter ulysse study magnetic radiation environment short summary result see science gory technical detail see many article same issue other space science mission note base post information contribute be attempt track change base update shuttle manifest correction update welcome mission alexis low imaging sensor perform wide field sky survey soft low energy will scan entire sky month search variation soft ray emission source such white dwarf cataclysmic variable star flare star will also search nearby space such exotic object isolate neutron star gamma project primarily technology development mission use astrophysical source demonstrate technology contact project investigator more information wind rocket satellite measure solar wind input magnetosphere space radar lab sep st srl gather radar image earth surface total ozone mapping study stratospheric ozone space flyer unit isas conduct space experiment observation can recover conduct various scientific engineering experiment sfu launch isas retrieve space shuttle st polar auroral plasma physics may rocket measure solar wind ion gas surround observe satellite muse isas conduct research precise mechanism space structure space astronomical observation electromagnetic wave lunar isas elucidate crust structure thermal construction moon propose mission advance axaf possible launch shuttle axaf space observatory high resolution telescope would orbit year study mystery fate observe system eos possible launch orbit space platform provide long term datum year earth system science include planetary observer possible launch lunar observer possible launch would send long term lunar orbit observer mile moon would survey characteristic provide global context result program space infrare telescope facility possible launch shuttle th element observatory program free fly observatory lifetime year would observe new comet other primitive body outer solar system study cosmic birth formation galaxy star planet distant infrared robotic rover would return sample atmosphere surface earch analysis possible launch date image orbiter fire ice possible launch will use gravity assist flyby earth use final gravity assist where probe will split fire ice component fire probe will journey sun take measurement star upper atmosphere vaporize intense heat ice probe will head reach tiny world study next faq controversial question',\n",
    " 'site nntp post organization math stat dalhousie line netter out there know site project plan electrical nature',\n",
    " 'subject re automate testing reply line write know available term automate testing motif application think system could program could record event output verification test procedure then run rerun time regression testing interested product unix project separate project will use openvm question answer faq share window answer xtrap record playback extenstion can find export know program require extension most server work vendor extension can modify so xtrap help up conference software know how easy would modify record playback help would appreciate bill ca fax mail mail offer email',\n",
    " 'rom summary need info difference where find keyword rom line notice version internal external portable can tell difference portable external version where area can find model thank advance ca uunet infmx billd',\n",
    " 'subject re cd price immediate sale article line hey now follow cd still available offer trade consider lose wave break heart live diversity thank rich',\n",
    " 'breen subject dicta originator conference reply division line australian call conference digital image computing technique application second biennial national conference australian pattern recognition society event will provide opportunity person interest computer vision digital image processing analysis other aspect pattern recognition become informed contemporary development area exchange idea establish contact share detail own work other following invite speaker will provide specialised presentation computer vision mathematical remote sensing division information technology interactive visualisation conference will concentrate limit follow area image processing computer vision object recognition motion analysis image fuzzy logic neural network image code machine vision robotic enhancement restoration enhancement restoration visualisation industrial application software hardware tool paper seek presentation conference publication conference proceeding submission peer review should consist extended abstract word double spaced text summarize technical aspect paper result will quote final paper should limit more page text illustration camera ready form copy abstract should send division technology box important date abstract acceptance notify final paper conference dinner will hold other social activity arrange situate many varied place interest just well know cruise city tour blue mountain run daily can provide further information request accommodation accommodation walking distance available range college style star hotel facility information will supply request conference fee sep student member other conference dinner advanced registration name address email current member current member send information accommodation enclose cheque send above form division technology box cheque should make payable dicta further information contact member affiliated member information processing',\n",
    " ]"
   ]
  },
  {
   "cell_type": "code",
   "execution_count": 32,
   "id": "8f79c2a5",
   "metadata": {},
   "outputs": [],
   "source": [
    "from sklearn.feature_extraction.text import TfidfVectorizer\n",
    "from sklearn.feature_extraction.text import CountVectorizer"
   ]
  },
  {
   "cell_type": "code",
   "execution_count": 3,
   "id": "87eb2665",
   "metadata": {},
   "outputs": [],
   "source": [
    "import numpy as np"
   ]
  },
  {
   "cell_type": "code",
   "execution_count": 4,
   "id": "539f3b49",
   "metadata": {},
   "outputs": [],
   "source": [
    "from pandas import DataFrame"
   ]
  },
  {
   "cell_type": "code",
   "execution_count": 13,
   "id": "134eb5f4",
   "metadata": {},
   "outputs": [],
   "source": [
    "from sklearn.decomposition import TruncatedSVD"
   ]
  },
  {
   "cell_type": "code",
   "execution_count": 14,
   "id": "3835b916",
   "metadata": {},
   "outputs": [],
   "source": [
    "import scipy as sp"
   ]
  },
  {
   "cell_type": "code",
   "execution_count": 15,
   "id": "250a4559",
   "metadata": {},
   "outputs": [],
   "source": [
    "tfidf_vect = TfidfVectorizer(min_df = 2)"
   ]
  },
  {
   "cell_type": "code",
   "execution_count": 16,
   "id": "3fd1de3c",
   "metadata": {},
   "outputs": [],
   "source": [
    "news_term_matrix= tfidf_vect.fit_transform(summary[:-1]) "
   ]
  },
  {
   "cell_type": "code",
   "execution_count": 44,
   "id": "c6f4794e",
   "metadata": {},
   "outputs": [],
   "source": [
    "df = DataFrame(news_term_matrix.toarray(), columns=tfidf_vect.get_feature_names_out())"
   ]
  },
  {
   "cell_type": "code",
   "execution_count": 58,
   "id": "cfd5c1e0",
   "metadata": {},
   "outputs": [
    {
     "data": {
      "text/plain": [
       "array([2, 2, 2, 2, 3, 3, 3, 2, 2, 2, 4, 2, 2, 2, 2, 2, 2, 2, 2, 2, 4, 2,\n",
       "       2, 2, 2, 2, 4, 2, 2, 2, 3, 2, 9, 2, 2, 2, 2, 2, 2, 2, 2, 3, 3, 2,\n",
       "       2, 2, 2, 2, 2, 2, 4, 3, 3, 2, 4, 2, 2, 2, 2, 2, 2, 2, 2, 2, 2, 3,\n",
       "       2, 6, 2, 3, 2, 2, 2, 2, 3, 2, 2, 5, 2, 2, 2, 2, 5, 2, 4, 2])"
      ]
     },
     "execution_count": 58,
     "metadata": {},
     "output_type": "execute_result"
    }
   ],
   "source": [
    "np.count_nonzero(news_term_matrix.toarray(), axis=0)"
   ]
  },
  {
   "cell_type": "code",
   "execution_count": 18,
   "id": "57c38bcf",
   "metadata": {},
   "outputs": [
    {
     "data": {
      "text/plain": [
       "<9x86 sparse matrix of type '<class 'numpy.float64'>'\n",
       "\twith 212 stored elements in Compressed Sparse Row format>"
      ]
     },
     "execution_count": 18,
     "metadata": {},
     "output_type": "execute_result"
    }
   ],
   "source": [
    "news_term_matrix"
   ]
  },
  {
   "cell_type": "code",
   "execution_count": 27,
   "id": "7cee41f2",
   "metadata": {},
   "outputs": [],
   "source": [
    "svd = TruncatedSVD(n_components=5)\n",
    "svdmatrix = svd.fit_transform(news_term_matrix.T)"
   ]
  },
  {
   "cell_type": "code",
   "execution_count": 28,
   "id": "f45716d9",
   "metadata": {},
   "outputs": [
    {
     "data": {
      "text/plain": [
       "array([[ 0.84455878,  0.1218436 ,  0.22397334, -0.22398201, -0.44014617],\n",
       "       [ 1.00272966, -0.38042279, -0.05255189,  0.20248054,  0.12577762],\n",
       "       [ 0.32383247,  0.56633884,  0.47305089,  0.52593625,  0.26059473],\n",
       "       [ 0.69285694,  0.09340017, -0.48568361,  0.13080659, -0.34889325],\n",
       "       [ 1.05773225, -0.19389496,  0.18135366,  0.40799198, -0.08017223],\n",
       "       [ 0.57360884, -0.30117418,  0.41352909, -0.46413937,  0.41080468],\n",
       "       [ 1.12223918, -0.03323723, -0.00658673, -0.24804338, -0.02979036],\n",
       "       [ 0.54016356,  0.14394984, -0.67936326,  0.02067131,  0.50433161],\n",
       "       [ 0.47863394,  0.7685081 , -0.01632079, -0.36129171,  0.02741625]])"
      ]
     },
     "execution_count": 28,
     "metadata": {},
     "output_type": "execute_result"
    }
   ],
   "source": [
    "news_term_matrix * svdmatrix"
   ]
  },
  {
   "cell_type": "code",
   "execution_count": 30,
   "id": "0258863d",
   "metadata": {},
   "outputs": [],
   "source": [
    "vocab = tfidf_vect.get_feature_names_out()"
   ]
  },
  {
   "cell_type": "code",
   "execution_count": 51,
   "id": "b54fa8df",
   "metadata": {},
   "outputs": [],
   "source": [
    "tf = CountVectorizer(vocabulary=vocab).fit_transform([summary[-1]]).toarray()"
   ]
  },
  {
   "cell_type": "code",
   "execution_count": 55,
   "id": "deeb57bd",
   "metadata": {},
   "outputs": [
    {
     "data": {
      "text/plain": [
       "array([[ 5.73455892, -0.49189524, -0.88439355,  1.05781099, -1.75207906]])"
      ]
     },
     "execution_count": 55,
     "metadata": {},
     "output_type": "execute_result"
    }
   ],
   "source": [
    "(tf * np.log(9/np.count_nonzero(df, axis=0))) @ svdmatrix"
   ]
  },
  {
   "cell_type": "code",
   "execution_count": null,
   "id": "569fae0a",
   "metadata": {},
   "outputs": [],
   "source": []
  }
 ],
 "metadata": {
  "kernelspec": {
   "display_name": "Python 3 (ipykernel)",
   "language": "python",
   "name": "python3"
  },
  "language_info": {
   "codemirror_mode": {
    "name": "ipython",
    "version": 3
   },
   "file_extension": ".py",
   "mimetype": "text/x-python",
   "name": "python",
   "nbconvert_exporter": "python",
   "pygments_lexer": "ipython3",
   "version": "3.9.12"
  }
 },
 "nbformat": 4,
 "nbformat_minor": 5
}
